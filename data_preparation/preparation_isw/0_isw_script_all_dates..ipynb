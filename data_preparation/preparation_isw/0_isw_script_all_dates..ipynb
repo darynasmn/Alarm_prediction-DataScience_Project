{
 "cells": [
  {
   "cell_type": "code",
   "execution_count": 7,
   "id": "e1f4796a",
   "metadata": {},
   "outputs": [
    {
     "name": "stdout",
     "output_type": "stream",
     "text": [
      "24\n"
     ]
    }
   ],
   "source": [
    "import requests\n",
    "import time\n",
    "import datetime\n",
    "\n",
    "OUTPUT_FOLDER = r\"0_isw_data\"\n",
    "BASA_URL = \"https://understandingwar.org/backgrounder/russian-offensive-campaign-assessment\"\n",
    "\n",
    "def save_page(url, file_name):\n",
    "    \n",
    "    temp_url = url\n",
    "    temp_url = temp_url.split('-') \n",
    "    if temp_url[-2] < '10' :\n",
    "        url = url[:len(url)-5]\n",
    "        if 'january' in url:\n",
    "            url = url.replace('0','') + '-2023'\n",
    "        else:\n",
    "            url = url.replace('0','')\n",
    "        \n",
    "    elif '2022' in url:\n",
    "        if 'february' not in url:\n",
    "            url = url[:len(url)-5]\n",
    "    if 'august-12' in url:\n",
    "        url = url + '-0'\n",
    "    if 'january-1-' in url:   \n",
    "        return\n",
    "    if 'february-24' in url:\n",
    "        url = 'https://www.understandingwar.org/backgrounder/russia-ukraine-warning-update-initial-russian-offensive-campaign-assessment'\n",
    "        print(24)\n",
    "    elif 'february-25' in url:\n",
    "        url = 'https://www.understandingwar.org/backgrounder/russia-ukraine-warning-update-russian-offensive-campaign-assessment-february-25-2022'\n",
    "    elif 'february-26' in url:  \n",
    "        return\n",
    "    elif 'february-27' in url:\n",
    "        url = 'https://www.understandingwar.org/backgrounder/russia-ukraine-warning-update-russian-offensive-campaign-assessment-february-27'\n",
    "    \n",
    "    page = requests.get(url)\n",
    "    \n",
    "    url_name = url.split(\"/\")[-1].replace(\"-\",\"_\")\n",
    "    with open(f\"{OUTPUT_FOLDER}/{file_name}__{url_name}.html\",'wb+') as f:\n",
    "        f.write(page.content)\n",
    "\n",
    "def get_prev_date(what, days_num):\n",
    "    mnths = [\"january\", \"february\", \"march\", \"april\", \"may\", \"june\", \"july\", \"august\",\"september\", \"october\", \n",
    "             \"november\", \"december\"]\n",
    "    base = datetime.datetime(2023, 1, 25) - datetime.timedelta(days=days_num)\n",
    "    if what == \"m\":\n",
    "        return mnths[int(base.strftime(\"%m\"))-1]\n",
    "    elif what == \"d\":\n",
    "        return base.strftime(\"%d\")\n",
    "    elif what == \"year\":\n",
    "        return base.strftime(\"%Y\")\n",
    "\n",
    "\n",
    "\n",
    "for i in range (336):\n",
    "    month = get_prev_date(\"m\", i)\n",
    "    d = get_prev_date(\"d\", i)\n",
    "    year = get_prev_date(\"year\", i)\n",
    "    url = f\"{BASA_URL}-{month}-{d}-{year}\"\n",
    "    file_name = f\"{month}_{d}_{year}\"\n",
    "\n",
    "    save_page(url,file_name)"
   ]
  },
  {
   "cell_type": "code",
   "execution_count": 6,
   "id": "6776fa3d",
   "metadata": {},
   "outputs": [
    {
     "name": "stderr",
     "output_type": "stream",
     "text": [
      "ERROR: Could not find a version that satisfies the requirement datatime (from versions: none)\n",
      "ERROR: No matching distribution found for datatime\n",
      "\n",
      "[notice] A new release of pip available: 22.3.1 -> 23.0.1\n",
      "[notice] To update, run: python.exe -m pip install --upgrade pip\n"
     ]
    }
   ],
   "source": [
    "!pip install datatime"
   ]
  },
  {
   "cell_type": "code",
   "execution_count": null,
   "id": "e20d5672",
   "metadata": {},
   "outputs": [],
   "source": []
  }
 ],
 "metadata": {
  "kernelspec": {
   "display_name": "Python 3 (ipykernel)",
   "language": "python",
   "name": "python3"
  },
  "language_info": {
   "codemirror_mode": {
    "name": "ipython",
    "version": 3
   },
   "file_extension": ".py",
   "mimetype": "text/x-python",
   "name": "python",
   "nbconvert_exporter": "python",
   "pygments_lexer": "ipython3",
   "version": "3.11.2"
  }
 },
 "nbformat": 4,
 "nbformat_minor": 5
}
