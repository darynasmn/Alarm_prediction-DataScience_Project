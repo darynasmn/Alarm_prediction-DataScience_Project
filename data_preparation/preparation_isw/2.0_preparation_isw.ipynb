{
 "cells": [
  {
   "cell_type": "code",
   "execution_count": 2,
   "id": "88fb41e1",
   "metadata": {},
   "outputs": [],
   "source": [
    "import pandas as pd"
   ]
  },
  {
   "cell_type": "code",
   "execution_count": 7,
   "id": "f890b916",
   "metadata": {},
   "outputs": [],
   "source": [
    "df_isw = pd.read_csv('C:/Users/Daryna Semenets/python_arbeiten/.venv/Scripts/Project/3_isw_proprocessed/all_days_isw_parsed_v2.csv', sep =\";\")"
   ]
  },
  {
   "cell_type": "code",
   "execution_count": 19,
   "id": "e0e84f7f",
   "metadata": {},
   "outputs": [
    {
     "data": {
      "text/html": [
       "<div>\n",
       "<style scoped>\n",
       "    .dataframe tbody tr th:only-of-type {\n",
       "        vertical-align: middle;\n",
       "    }\n",
       "\n",
       "    .dataframe tbody tr th {\n",
       "        vertical-align: top;\n",
       "    }\n",
       "\n",
       "    .dataframe thead th {\n",
       "        text-align: right;\n",
       "    }\n",
       "</style>\n",
       "<table border=\"1\" class=\"dataframe\">\n",
       "  <thead>\n",
       "    <tr style=\"text-align: right;\">\n",
       "      <th></th>\n",
       "      <th>date</th>\n",
       "      <th>keywords</th>\n",
       "    </tr>\n",
       "  </thead>\n",
       "  <tbody>\n",
       "    <tr>\n",
       "      <th>0</th>\n",
       "      <td>2022-02-24</td>\n",
       "      <td>{'pm': 0.382, 'airport': 0.264, 'kyiv': 0.245,...</td>\n",
       "    </tr>\n",
       "    <tr>\n",
       "      <th>1</th>\n",
       "      <td>2022-02-25</td>\n",
       "      <td>{'pm': 0.353, 'zero': 0.351, 'februari': 0.336...</td>\n",
       "    </tr>\n",
       "    <tr>\n",
       "      <th>2</th>\n",
       "      <td>2022-02-27</td>\n",
       "      <td>{'februari': 0.548, 'kyiv': 0.26, 'seven': 0.2...</td>\n",
       "    </tr>\n",
       "    <tr>\n",
       "      <th>3</th>\n",
       "      <td>2022-02-28</td>\n",
       "      <td>{'februari': 0.592, 'eight': 0.272, 'kyiv': 0....</td>\n",
       "    </tr>\n",
       "    <tr>\n",
       "      <th>4</th>\n",
       "      <td>2022-03-01</td>\n",
       "      <td>{'kyiv': 0.356, 'envelop': 0.287, 'chernihiv':...</td>\n",
       "    </tr>\n",
       "  </tbody>\n",
       "</table>\n",
       "</div>"
      ],
      "text/plain": [
       "         date                                           keywords\n",
       "0  2022-02-24  {'pm': 0.382, 'airport': 0.264, 'kyiv': 0.245,...\n",
       "1  2022-02-25  {'pm': 0.353, 'zero': 0.351, 'februari': 0.336...\n",
       "2  2022-02-27  {'februari': 0.548, 'kyiv': 0.26, 'seven': 0.2...\n",
       "3  2022-02-28  {'februari': 0.592, 'eight': 0.272, 'kyiv': 0....\n",
       "4  2022-03-01  {'kyiv': 0.356, 'envelop': 0.287, 'chernihiv':..."
      ]
     },
     "execution_count": 19,
     "metadata": {},
     "output_type": "execute_result"
    }
   ],
   "source": [
    "df_isw.head()"
   ]
  },
  {
   "cell_type": "code",
   "execution_count": 11,
   "id": "baa6c98b",
   "metadata": {},
   "outputs": [],
   "source": [
    "df_isw = df_isw.drop(labels=[329,330,331,332,333], axis =0)"
   ]
  },
  {
   "cell_type": "code",
   "execution_count": 12,
   "id": "a88546e0",
   "metadata": {},
   "outputs": [],
   "source": [
    "df_isw = df_isw.drop(['short_url', 'title', 'text_title', 'full_url', 'main_html', 'main_html_v2', 'main_html_v7', 'report_text_lemm', 'report_text_stemm'], axis =1)"
   ]
  },
  {
   "cell_type": "code",
   "execution_count": 13,
   "id": "5b4e2158",
   "metadata": {},
   "outputs": [
    {
     "data": {
      "text/html": [
       "<div>\n",
       "<style scoped>\n",
       "    .dataframe tbody tr th:only-of-type {\n",
       "        vertical-align: middle;\n",
       "    }\n",
       "\n",
       "    .dataframe tbody tr th {\n",
       "        vertical-align: top;\n",
       "    }\n",
       "\n",
       "    .dataframe thead th {\n",
       "        text-align: right;\n",
       "    }\n",
       "</style>\n",
       "<table border=\"1\" class=\"dataframe\">\n",
       "  <thead>\n",
       "    <tr style=\"text-align: right;\">\n",
       "      <th></th>\n",
       "      <th>date</th>\n",
       "      <th>keywords</th>\n",
       "    </tr>\n",
       "  </thead>\n",
       "  <tbody>\n",
       "    <tr>\n",
       "      <th>0</th>\n",
       "      <td>2022-02-24</td>\n",
       "      <td>{'pm': 0.382, 'airport': 0.264, 'kyiv': 0.245,...</td>\n",
       "    </tr>\n",
       "    <tr>\n",
       "      <th>1</th>\n",
       "      <td>2022-02-25</td>\n",
       "      <td>{'pm': 0.353, 'zero': 0.351, 'februari': 0.336...</td>\n",
       "    </tr>\n",
       "    <tr>\n",
       "      <th>2</th>\n",
       "      <td>2022-02-27</td>\n",
       "      <td>{'februari': 0.548, 'kyiv': 0.26, 'seven': 0.2...</td>\n",
       "    </tr>\n",
       "    <tr>\n",
       "      <th>3</th>\n",
       "      <td>2022-02-28</td>\n",
       "      <td>{'februari': 0.592, 'eight': 0.272, 'kyiv': 0....</td>\n",
       "    </tr>\n",
       "    <tr>\n",
       "      <th>4</th>\n",
       "      <td>2022-03-01</td>\n",
       "      <td>{'kyiv': 0.356, 'envelop': 0.287, 'chernihiv':...</td>\n",
       "    </tr>\n",
       "    <tr>\n",
       "      <th>...</th>\n",
       "      <td>...</td>\n",
       "      <td>...</td>\n",
       "    </tr>\n",
       "    <tr>\n",
       "      <th>324</th>\n",
       "      <td>2023-01-16</td>\n",
       "      <td>{'januari': 0.623, 'stoltenberg': 0.153, 'wagn...</td>\n",
       "    </tr>\n",
       "    <tr>\n",
       "      <th>325</th>\n",
       "      <td>2023-01-17</td>\n",
       "      <td>{'januari': 0.56, 'wagner': 0.18, 'reform': 0....</td>\n",
       "    </tr>\n",
       "    <tr>\n",
       "      <th>326</th>\n",
       "      <td>2023-01-18</td>\n",
       "      <td>{'januari': 0.474, 'putin': 0.225, 'lavrov': 0...</td>\n",
       "    </tr>\n",
       "    <tr>\n",
       "      <th>327</th>\n",
       "      <td>2023-01-19</td>\n",
       "      <td>{'januari': 0.411, 'prigozhin': 0.205, 'belaru...</td>\n",
       "    </tr>\n",
       "    <tr>\n",
       "      <th>328</th>\n",
       "      <td>2023-01-20</td>\n",
       "      <td>{'januari': 0.43, 'wagner': 0.218, 'nineti': 0...</td>\n",
       "    </tr>\n",
       "  </tbody>\n",
       "</table>\n",
       "<p>329 rows × 2 columns</p>\n",
       "</div>"
      ],
      "text/plain": [
       "           date                                           keywords\n",
       "0    2022-02-24  {'pm': 0.382, 'airport': 0.264, 'kyiv': 0.245,...\n",
       "1    2022-02-25  {'pm': 0.353, 'zero': 0.351, 'februari': 0.336...\n",
       "2    2022-02-27  {'februari': 0.548, 'kyiv': 0.26, 'seven': 0.2...\n",
       "3    2022-02-28  {'februari': 0.592, 'eight': 0.272, 'kyiv': 0....\n",
       "4    2022-03-01  {'kyiv': 0.356, 'envelop': 0.287, 'chernihiv':...\n",
       "..          ...                                                ...\n",
       "324  2023-01-16  {'januari': 0.623, 'stoltenberg': 0.153, 'wagn...\n",
       "325  2023-01-17  {'januari': 0.56, 'wagner': 0.18, 'reform': 0....\n",
       "326  2023-01-18  {'januari': 0.474, 'putin': 0.225, 'lavrov': 0...\n",
       "327  2023-01-19  {'januari': 0.411, 'prigozhin': 0.205, 'belaru...\n",
       "328  2023-01-20  {'januari': 0.43, 'wagner': 0.218, 'nineti': 0...\n",
       "\n",
       "[329 rows x 2 columns]"
      ]
     },
     "execution_count": 13,
     "metadata": {},
     "output_type": "execute_result"
    }
   ],
   "source": [
    "df_isw"
   ]
  },
  {
   "cell_type": "code",
   "execution_count": 18,
   "id": "6da856f1",
   "metadata": {
    "scrolled": true
   },
   "outputs": [
    {
     "data": {
      "text/plain": [
       "\"{'januari': 0.474, 'putin': 0.225, 'lavrov': 0.194, 'prigozhin': 0.143, 'seventi': 0.135, 'eighteen': 0.134, 'eighti': 0.133, 'speech': 0.119, 'sixti': 0.119, 'nineti': 0.119, 'nazi': 0.111, 'state': 0.11, 'war': 0.108, 'fifti': 0.105, 'protract': 0.098, 'effort': 0.097, 'soledar': 0.096, 'forti': 0.092, 'one': 0.084, 'thirti': 0.082, 'author': 0.081, 'mobil': 0.08, 'occupi': 0.079, 'space': 0.078, 'defens': 0.077, 'zaporizhia': 0.077, 'four': 0.077, 'incendiari': 0.076, 'three': 0.076, 'six': 0.074, 'sberbank': 0.073, 'belarusian': 0.073, 'mod': 0.072, 'occup': 0.071, 'worker': 0.071, 'territori': 0.071, 'use': 0.07, 'wagner': 0.07, 'two': 0.069, 'mdcoa': 0.069, 'five': 0.069, 'neo': 0.068, 'crash': 0.068, 'offici': 0.068, 'genocid': 0.066, 'nine': 0.065, 'critic': 0.065, 'seven': 0.063, 'eight': 0.063, 'milblogg': 0.062, 'negoti': 0.062, 'shape': 0.059, 'inform': 0.059, 'kremlin': 0.058, 'wrap': 0.058, 'great': 0.057, 'area': 0.056, 'group': 0.056, 'near': 0.055, 'leningrad': 0.054, 'industri': 0.053, 'patriot': 0.053, 'observ': 0.052, 'commemor': 0.051, 'presid': 0.051, 'kreminna': 0.05, 'munit': 0.049, 'reject': 0.049, 'soviet': 0.049, 'peopl': 0.048, 'indic': 0.047, 'sovereignti': 0.047, 'rhetor': 0.047, 'germani': 0.047, 'second': 0.046, 'gener': 0.045, 'standard': 0.045, 'sil': 0.045, 'administr': 0.045, 'new': 0.043, 'special': 0.041, 'offens': 0.04, 'control': 0.039, 'verbal': 0.039, 'mytho': 0.039, 'carv': 0.039, 'increas': 0.038, 'sieg': 0.038, 'west': 0.038, 'voic': 0.038, 'downplay': 0.037, 'aim': 0.037, 'ludicr': 0.037, 'forgiv': 0.037, 'bold': 0.037, 'vladimir': 0.036, 'khlan': 0.036, 'face': 0.036, 'thousand': 0.036, 'pro': 0.036}\""
      ]
     },
     "execution_count": 18,
     "metadata": {},
     "output_type": "execute_result"
    }
   ],
   "source": [
    "df_isw.iloc[326,1]"
   ]
  },
  {
   "cell_type": "code",
   "execution_count": null,
   "id": "19ec208b",
   "metadata": {},
   "outputs": [],
   "source": []
  }
 ],
 "metadata": {
  "kernelspec": {
   "display_name": "Python 3 (ipykernel)",
   "language": "python",
   "name": "python3"
  },
  "language_info": {
   "codemirror_mode": {
    "name": "ipython",
    "version": 3
   },
   "file_extension": ".py",
   "mimetype": "text/x-python",
   "name": "python",
   "nbconvert_exporter": "python",
   "pygments_lexer": "ipython3",
   "version": "3.11.2"
  }
 },
 "nbformat": 4,
 "nbformat_minor": 5
}
