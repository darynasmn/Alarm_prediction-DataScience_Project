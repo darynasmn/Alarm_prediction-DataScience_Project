{
 "cells": [
  {
   "cell_type": "code",
   "execution_count": 1,
   "id": "fe8d6216",
   "metadata": {},
   "outputs": [],
   "source": [
    "import datetime\n",
    "import numpy as np\n",
    "import pandas as pd\n",
    "\n",
    "import pickle"
   ]
  },
  {
   "cell_type": "code",
   "execution_count": 2,
   "id": "e1b711fe",
   "metadata": {},
   "outputs": [],
   "source": [
    "pd.set_option('display.max_columns', None)\n",
    "pd.set_option('display.max_rows', None)"
   ]
  },
  {
   "cell_type": "code",
   "execution_count": 3,
   "id": "d7c4e87b",
   "metadata": {},
   "outputs": [],
   "source": [
    "INPUT_DATA_FOLDER = \"3_isw_preprocessed\"\n",
    "REPORTS_DATA_FILE = \"all_days_isw_parsed_v2.csv\"\n",
    "\n",
    "OUTPUT_FOLDER = \"4_all_data_preprocessed\"\n",
    "ISW_OUTPUT_DATA_FILE = \"all_isw.csv\"\n",
    "WEATHER_EVENTS_OUTPUT_DATA_FILE = \"all_hourly_weather_events.csv\"\n",
    "WEATHER_REGIONS = 'weather_regions.csv'\n",
    "\n",
    "MODEL_FOLDER = \"model\"\n",
    "\n",
    "tfidf_transformer_model = \"tfidf_transformer\"\n",
    "count_vectorizer_model = \"count_vectorizer\"\n",
    "\n",
    "tfidf_transformer_version = \"v1\"\n",
    "count_vectorizer_version = \"v1\""
   ]
  },
  {
   "cell_type": "code",
   "execution_count": 4,
   "id": "13680e9f",
   "metadata": {},
   "outputs": [],
   "source": [
    "def isNaN(num):\n",
    "    return num != num"
   ]
  },
  {
   "cell_type": "code",
   "execution_count": 5,
   "id": "87278be8",
   "metadata": {},
   "outputs": [
    {
     "name": "stderr",
     "output_type": "stream",
     "text": [
      "\n",
      "KeyboardInterrupt\n",
      "\n"
     ]
    }
   ],
   "source": [
    "df_isw = pd.read_csv(f\"{INPUT_DATA_FOLDER}/{REPORTS_DATA_FILE}\", sep=\";\")"
   ]
  },
  {
   "cell_type": "code",
   "execution_count": null,
   "id": "01dc9460",
   "metadata": {},
   "outputs": [],
   "source": [
    "df_isw[\"date_datetime\"] = pd.to_datetime(df_isw[\"date\"])"
   ]
  },
  {
   "cell_type": "code",
   "execution_count": null,
   "id": "74414d99",
   "metadata": {},
   "outputs": [],
   "source": [
    "df_isw['date_tomorrow_datetime'] = df_isw['date_datetime'].apply(lambda x: x+datetime.timedelta(days=1))"
   ]
  },
  {
   "cell_type": "code",
   "execution_count": null,
   "id": "e38603de",
   "metadata": {},
   "outputs": [],
   "source": [
    "df_isw = df_isw.rename(columns = {\"date_datetime\":\"report_date\"})\n",
    "df_isw.to_csv(f\"{OUTPUT_FOLDER}/{ISW_OUTPUT_DATA_FILE}\", sep=\";\", index=False)"
   ]
  },
  {
   "cell_type": "code",
   "execution_count": null,
   "id": "b8aea8d5",
   "metadata": {},
   "outputs": [],
   "source": [
    "df_isw.head()"
   ]
  },
  {
   "cell_type": "code",
   "execution_count": null,
   "id": "7540a175",
   "metadata": {},
   "outputs": [],
   "source": [
    "df_isw = df_isw.drop(['short_url', 'title', 'full_url', 'main_html_v2', 'report_text_stemm', 'report_date', 'date_tomorrow_datetime', 'text_title', 'main_html'], axis = 1)"
   ]
  },
  {
   "cell_type": "code",
   "execution_count": null,
   "id": "4e685b77",
   "metadata": {},
   "outputs": [],
   "source": [
    "df_isw.head()"
   ]
  },
  {
   "cell_type": "markdown",
   "id": "bf274307",
   "metadata": {},
   "source": [
    "# event data"
   ]
  },
  {
   "cell_type": "code",
   "execution_count": null,
   "id": "60aaea61",
   "metadata": {},
   "outputs": [],
   "source": [
    "EVENTS_DATA_FOLDER = \"5_events\"\n",
    "EVENTS_DATA_FILE = \"all_events.csv\""
   ]
  },
  {
   "cell_type": "code",
   "execution_count": null,
   "id": "f2f36222",
   "metadata": {},
   "outputs": [],
   "source": [
    "df_events = pd.read_csv(f\"{EVENTS_DATA_FOLDER}/{EVENTS_DATA_FILE}\", sep =\";\")"
   ]
  },
  {
   "cell_type": "code",
   "execution_count": null,
   "id": "43097143",
   "metadata": {},
   "outputs": [],
   "source": [
    "# df_events.head()"
   ]
  },
  {
   "cell_type": "code",
   "execution_count": null,
   "id": "de85d7fd",
   "metadata": {},
   "outputs": [],
   "source": [
    "df_events[\"start_time\"] = pd.to_datetime(df_events[\"start\"])\n",
    "df_events[\"end_time\"] = pd.to_datetime(df_events[\"end\"])"
   ]
  },
  {
   "cell_type": "code",
   "execution_count": null,
   "id": "45c78f6d",
   "metadata": {},
   "outputs": [],
   "source": [
    "df_events[\"start_hour\"] = df_events['start_time'].dt.floor('H')\n",
    "df_events[\"end_hour\"] = df_events['end_time'].dt.ceil('H')"
   ]
  },
  {
   "cell_type": "code",
   "execution_count": null,
   "id": "069fdb15",
   "metadata": {},
   "outputs": [],
   "source": [
    "df_events[\"start_hour\"] = df_events.apply(lambda x: x[\"start_hour\"] if not isNaN(x[\"start_hour\"]) else x[\"event_hour\"] , axis=1)\n",
    "df_events[\"end_hour\"] = df_events.apply(lambda x: x[\"end_hour\"] if not isNaN(x[\"end_hour\"]) else x[\"event_hour\"] , axis=1)"
   ]
  },
  {
   "cell_type": "code",
   "execution_count": null,
   "id": "6af6a3ec",
   "metadata": {},
   "outputs": [],
   "source": [
    "# df_events.tail()"
   ]
  },
  {
   "cell_type": "code",
   "execution_count": null,
   "id": "60c062e8",
   "metadata": {},
   "outputs": [],
   "source": [
    "df_events.loc[:, 'all_region'].unique()"
   ]
  },
  {
   "cell_type": "code",
   "execution_count": null,
   "id": "fa75910d",
   "metadata": {},
   "outputs": [],
   "source": [
    "df_events['date_datetime'] =0"
   ]
  },
  {
   "cell_type": "code",
   "execution_count": null,
   "id": "f6f1f73f",
   "metadata": {},
   "outputs": [],
   "source": [
    "def date_time(df):\n",
    "    divider = \" \"\n",
    "    for i in range(df.shape[0]):\n",
    "        if divider in df.iloc[i,4]:\n",
    "            temp_str = df.iloc[i,4]\n",
    "            temp_list = temp_str.split(divider)\n",
    "            df.iloc[i,14] = temp_list[0]"
   ]
  },
  {
   "cell_type": "code",
   "execution_count": null,
   "id": "37b61660",
   "metadata": {},
   "outputs": [],
   "source": [
    "date_time(df_events)"
   ]
  },
  {
   "cell_type": "code",
   "execution_count": null,
   "id": "265f6f2a",
   "metadata": {},
   "outputs": [],
   "source": [
    "count =0\n",
    "for i in range(df_events.shape[0]):\n",
    "    if i != 19932:\n",
    "        if df_events.loc[i, 'date_datetime'] == df_events.loc[i+1, 'date_datetime']:\n",
    "            count += 1\n",
    "        else:\n",
    "            count += 1\n",
    "            if count == 1:\n",
    "                df_events.loc[i, 'count_for_day'] = 1\n",
    "                count = 0\n",
    "            else: \n",
    "                k = i - count + 1\n",
    "                for y in range(count):\n",
    "                    df_events.loc[k, 'count_for_day'] = count\n",
    "                    k += 1\n",
    "                    if y == count -1:\n",
    "                        count = 0\n",
    "    else:\n",
    "        count += 1\n",
    "        k = i - count + 1\n",
    "        for y in range(count):\n",
    "            df_events.loc[k, 'count_for_day'] = count\n",
    "            k += 1\n",
    "            if y == count -1:\n",
    "                count = 0"
   ]
  },
  {
   "cell_type": "code",
   "execution_count": null,
   "id": "383b895a",
   "metadata": {},
   "outputs": [],
   "source": [
    "df_events.rename(columns={'count_for_day': 'amount_of_alarms_for_one_day'}, inplace=True)"
   ]
  },
  {
   "cell_type": "code",
   "execution_count": null,
   "id": "87c4743b",
   "metadata": {},
   "outputs": [],
   "source": [
    "# df_events.head()"
   ]
  },
  {
   "cell_type": "code",
   "execution_count": null,
   "id": "90414462",
   "metadata": {},
   "outputs": [],
   "source": [
    "from datetime import date\n",
    "def date_intersection(t1, t2):\n",
    "    t1start, t1end = t1[0], t1[1]\n",
    "    t2start, t2end = t2[0], t2[1]\n",
    "\n",
    "    if t1end < t2start: return False\n",
    "    if t1end == t2start: return True\n",
    "    if t1start == t2start: return True\n",
    "    if t1start < t2start and t2start < t1end: return True\n",
    "    if t1start > t2start and t1end < t2end: return True\n",
    "    if t1start < t2start and t1end > t2end: return True\n",
    "    if t1start < t2end and t1end > t2end: return True\n",
    "    if t1start > t2start and t1start < t2end: return True\n",
    "    if t1start == t2end: return True\n",
    "    if t1end == t2end: return True \n",
    "    if t1start > t2end: return False"
   ]
  },
  {
   "cell_type": "code",
   "execution_count": null,
   "id": "988f00b4",
   "metadata": {},
   "outputs": [],
   "source": [
    "def count_alarms_sameTime(df):\n",
    "    count = 0\n",
    "    j = 0\n",
    "    while(j != df.shape[0]):\n",
    "        temp_dateS = df.iloc[j,4]\n",
    "        temp_dateE = df.iloc[j,5]\n",
    "        work_mask = (df.loc[:,'date_datetime'] == df.iloc[j,14])\n",
    "        work_df = df.loc[work_mask,:]\n",
    "        region_id_dict = {\n",
    " '1' : 0,\n",
    " '2' : 0,\n",
    " '3' : 0,\n",
    " '4' : 0,\n",
    " '5' : 0,\n",
    " '6' : 0,\n",
    " '7' : 0,\n",
    " '8' : 0,\n",
    " '9' : 0,\n",
    " '10' : 0,\n",
    " '12' : 0,\n",
    " '13' : 0,\n",
    " '14' : 0,\n",
    " '15' : 0,\n",
    " '16' : 0,\n",
    " '17' : 0,\n",
    " '18' : 0,\n",
    " '19' : 0,\n",
    " '20' : 0,\n",
    " '21' : 0,\n",
    " '22' : 0,\n",
    " '23' : 0,\n",
    " '24' : 0\n",
    "}\n",
    "        for i in range (work_df.shape[0]):\n",
    "            if i == j:\n",
    "                continue\n",
    "            anotherDateS = work_df.iloc[i,4]\n",
    "            anotherDateE = work_df.iloc[i,5]\n",
    "            if df.iloc[j,14].split('-')[1] != work_df.iloc[i,14].split('-')[1]:\n",
    "                continue\n",
    "            if date_intersection((temp_dateS,temp_dateE),(anotherDateS,anotherDateE)):\n",
    "                if df.iloc[j,0] != work_df.iloc[i,0]:\n",
    "                    temp_str_id = str(work_df.iloc[i,0])\n",
    "                    if region_id_dict[temp_str_id] != 1:\n",
    "                        count+=1\n",
    "                        region_id_dict[temp_str_id] = 1 \n",
    "        df.loc[j,'intersection_alarm_region_counts'] = count\n",
    "        count = 0\n",
    "        j+=1"
   ]
  },
  {
   "cell_type": "code",
   "execution_count": null,
   "id": "456b2563",
   "metadata": {},
   "outputs": [],
   "source": [
    "count_alarms_sameTime(df_events)"
   ]
  },
  {
   "cell_type": "code",
   "execution_count": null,
   "id": "587fd265",
   "metadata": {},
   "outputs": [],
   "source": [
    "df_events.loc[:, 'intersection_alarm_region_counts'] = df_events.loc[:, 'intersection_alarm_region_counts'] +1"
   ]
  },
  {
   "cell_type": "code",
   "execution_count": null,
   "id": "409cb6c5",
   "metadata": {},
   "outputs": [],
   "source": [
    "# df_events.head()"
   ]
  },
  {
   "cell_type": "code",
   "execution_count": null,
   "id": "f10f51e9",
   "metadata": {},
   "outputs": [],
   "source": [
    "from datetime import datetime\n",
    "\n",
    "def count_amount_for_24_hours(df):\n",
    "    for index in range(df.shape[0]):\n",
    "        df.loc[index, 'last_24_hour_in_region']= index\n",
    "    \n",
    "    one_day = pd.Timedelta(days=1)\n",
    "    zero_timedelta = pd.Timedelta(hours=0, minutes=0)\n",
    "    \n",
    "    for i in range(25):\n",
    "        mask_region = df.loc[:, 'region_id'] == i\n",
    "        df_region = df.loc[mask_region, :]\n",
    "        df_region.sort_values(by='start_hour')\n",
    "        \n",
    "        for j in range(df_region.shape[0]):\n",
    "            count = 0\n",
    "            timedelta = df_region.iloc[j, 12] - df_region['start_hour']\n",
    "            \n",
    "            count = (timedelta <= one_day) & (timedelta >= zero_timedelta) \n",
    "            count = count.sum()\n",
    "            \n",
    "            index_num = df_region[df_region['last_24_hour_in_region'] == df_region.iloc[j, 17]].index\n",
    "            df.loc[index_num,'last_24_hour_in_region']= count"
   ]
  },
  {
   "cell_type": "code",
   "execution_count": null,
   "id": "6ec1b0b1",
   "metadata": {},
   "outputs": [],
   "source": [
    "count_amount_for_24_hours(df_events)"
   ]
  },
  {
   "cell_type": "code",
   "execution_count": null,
   "id": "c1d933b7",
   "metadata": {},
   "outputs": [],
   "source": [
    "df_events['intersection_alarm_region_counts'].max()"
   ]
  },
  {
   "cell_type": "code",
   "execution_count": null,
   "id": "26d45499",
   "metadata": {},
   "outputs": [],
   "source": [
    "# df_events.head()"
   ]
  },
  {
   "cell_type": "markdown",
   "id": "b16ebd50",
   "metadata": {},
   "source": [
    "# weather"
   ]
  },
  {
   "cell_type": "code",
   "execution_count": null,
   "id": "6388bea3",
   "metadata": {},
   "outputs": [],
   "source": [
    "WEATHER_DATA_FOLDER = \"prepared_csv\"\n",
    "WEATHER_DATA_FILE = \"all_hourly_weather_events.csv\""
   ]
  },
  {
   "cell_type": "code",
   "execution_count": null,
   "id": "7c0bc1b2",
   "metadata": {},
   "outputs": [],
   "source": [
    "df_weather = pd.read_csv(f\"{WEATHER_DATA_FOLDER}/{WEATHER_DATA_FILE}\", sep =\";\")\n",
    "df_weather[\"day_datetime\"] = pd.to_datetime(df_weather[\"day_datetime\"])"
   ]
  },
  {
   "cell_type": "code",
   "execution_count": null,
   "id": "bcb47942",
   "metadata": {},
   "outputs": [],
   "source": [
    "df_weather = df_weather.drop(index=df_weather.index[:24])"
   ]
  },
  {
   "cell_type": "code",
   "execution_count": null,
   "id": "a8686277",
   "metadata": {},
   "outputs": [],
   "source": [
    "df_weather.head(26)\n",
    "df_weather.index = df_weather.index -24"
   ]
  },
  {
   "cell_type": "code",
   "execution_count": null,
   "id": "4abdaae9",
   "metadata": {},
   "outputs": [],
   "source": [
    "df_weather.head()"
   ]
  },
  {
   "cell_type": "code",
   "execution_count": null,
   "id": "39ef1e9e",
   "metadata": {},
   "outputs": [],
   "source": [
    "df_weather = df_weather.sort_values(by='day_datetime')"
   ]
  },
  {
   "cell_type": "code",
   "execution_count": null,
   "id": "7fdb2e83",
   "metadata": {},
   "outputs": [],
   "source": [
    "df_weather = df_weather.drop(index=df_weather.index[:528])"
   ]
  },
  {
   "cell_type": "code",
   "execution_count": null,
   "id": "a7635255",
   "metadata": {},
   "outputs": [],
   "source": [
    "df_weather.head()"
   ]
  },
  {
   "cell_type": "code",
   "execution_count": null,
   "id": "aa7121d4",
   "metadata": {},
   "outputs": [],
   "source": [
    "df_weather.index = range(df_weather.shape[0])"
   ]
  },
  {
   "cell_type": "code",
   "execution_count": null,
   "id": "1f177c15",
   "metadata": {},
   "outputs": [],
   "source": [
    "df_weather.head()"
   ]
  },
  {
   "cell_type": "code",
   "execution_count": null,
   "id": "db993631",
   "metadata": {},
   "outputs": [],
   "source": [
    "exclude = [\n",
    "\"day_feelslikemax\",\n",
    "\"day_feelslikemin\",\n",
    "\"day_description\",\n",
    "\"city_address\",\n",
    "\"city_timezone\",\n",
    "\"day_feelslike\",\n",
    "\"day_precipprob\",\n",
    "\"day_snow\",\n",
    "\"day_snowdepth\",\n",
    "\"day_windgust\",\n",
    "\"day_windspeed\",\n",
    "\"day_winddir\",\n",
    "\"day_pressure\",\n",
    "\"day_cloudcover\",\n",
    "\"day_visibility\",\n",
    "\"day_severerisk\",\n",
    "\"day_conditions\",\n",
    "\"day_icon\",\n",
    "\"day_source\",\n",
    "\"day_preciptype\",\n",
    "\"day_stations\",\n",
    "\"hour_icon\",\n",
    "\"hour_feelslike\"\n",
    "]"
   ]
  },
  {
   "cell_type": "code",
   "execution_count": null,
   "id": "90ef3f42",
   "metadata": {},
   "outputs": [],
   "source": [
    "df_weather = df_weather.drop(exclude, axis=1)"
   ]
  },
  {
   "cell_type": "code",
   "execution_count": null,
   "id": "c453b509",
   "metadata": {},
   "outputs": [],
   "source": [
    "df_weather.columns"
   ]
  },
  {
   "cell_type": "code",
   "execution_count": null,
   "id": "e282cc8e",
   "metadata": {},
   "outputs": [],
   "source": [
    "df_weather[\"city\"] = df_weather[\"city_resolvedAddress\"].apply(lambda x: x.split(\",\")[0])\n",
    "df_weather[\"city\"] = df_weather[\"city\"].replace('Хмельницька область', \"Хмельницький\")"
   ]
  },
  {
   "cell_type": "code",
   "execution_count": null,
   "id": "b945ac38",
   "metadata": {},
   "outputs": [],
   "source": [
    "df_weather.head(5)"
   ]
  },
  {
   "cell_type": "markdown",
   "id": "f805efbb",
   "metadata": {},
   "source": [
    "# Merging"
   ]
  },
  {
   "cell_type": "code",
   "execution_count": null,
   "id": "771834fe",
   "metadata": {},
   "outputs": [],
   "source": [
    "df_regions = pd.read_csv(f\"Homework3/raw_csv/regions.csv\")"
   ]
  },
  {
   "cell_type": "code",
   "execution_count": null,
   "id": "0ddee382",
   "metadata": {},
   "outputs": [],
   "source": [
    "df_regions.head()"
   ]
  },
  {
   "cell_type": "code",
   "execution_count": null,
   "id": "54cce602",
   "metadata": {},
   "outputs": [],
   "source": [
    "df_weather_reg = pd.merge(df_weather, df_regions, left_on=\"city\",right_on=\"center_city_ua\")"
   ]
  },
  {
   "cell_type": "code",
   "execution_count": null,
   "id": "887a70a8",
   "metadata": {},
   "outputs": [],
   "source": [
    "df_weather_reg.head()"
   ]
  },
  {
   "cell_type": "code",
   "execution_count": null,
   "id": "bca34a99",
   "metadata": {},
   "outputs": [],
   "source": [
    "df_weather_reg.to_csv(f\"{OUTPUT_FOLDER}/{WEATHER_REGIONS}\", sep=\";\", index=False)"
   ]
  },
  {
   "cell_type": "code",
   "execution_count": null,
   "id": "ee71a430",
   "metadata": {},
   "outputs": [],
   "source": [
    "import calendar"
   ]
  },
  {
   "cell_type": "code",
   "execution_count": null,
   "id": "51ffb070",
   "metadata": {},
   "outputs": [],
   "source": [
    "df_events[\"start_hour_datetimeEpoch\"]= df_events['start_hour'].apply(lambda x: int(x.timestamp())  if not isNaN(x) else None)\n",
    "df_events[\"end_hour_datetimeEpoch\"] = df_events['end_hour'].apply(lambda x: int(x.timestamp())  if not isNaN(x) else None)"
   ]
  },
  {
   "cell_type": "code",
   "execution_count": null,
   "id": "d9735e62",
   "metadata": {},
   "outputs": [],
   "source": [
    "df_events.head()"
   ]
  },
  {
   "cell_type": "code",
   "execution_count": null,
   "id": "a04a8bc8",
   "metadata": {},
   "outputs": [],
   "source": [
    "events_dict = df_events.to_dict('records')\n",
    "events_by_hour = []"
   ]
  },
  {
   "cell_type": "code",
   "execution_count": null,
   "id": "92fca318",
   "metadata": {},
   "outputs": [],
   "source": [
    "events_dict[0]"
   ]
  },
  {
   "cell_type": "code",
   "execution_count": null,
   "id": "232a43c4",
   "metadata": {},
   "outputs": [],
   "source": [
    "for event in events_dict:\n",
    "    for d in pd.date_range(start=event[\"start_hour\"], end=event[\"end_hour\"], freq='1H'):\n",
    "        et = event.copy()\n",
    "        et[\"hour_level_event_time\"] = d\n",
    "        events_by_hour.append(et)"
   ]
  },
  {
   "cell_type": "code",
   "execution_count": null,
   "id": "9348a8d1",
   "metadata": {},
   "outputs": [],
   "source": [
    "df_events_v1 = pd.DataFrame.from_dict(events_by_hour)"
   ]
  },
  {
   "cell_type": "code",
   "execution_count": null,
   "id": "d754c1a6",
   "metadata": {},
   "outputs": [],
   "source": [
    "df_events_v1[\"hour_level_event_datetimeEpoch\"] = df_events_v1[\"hour_level_event_time\"].apply(lambda x: int(x.timestamp()) if not isNaN(x) else None)"
   ]
  },
  {
   "cell_type": "code",
   "execution_count": null,
   "id": "528dc99a",
   "metadata": {},
   "outputs": [],
   "source": [
    "df_events_v1.head()"
   ]
  },
  {
   "cell_type": "code",
   "execution_count": null,
   "id": "40072153",
   "metadata": {},
   "outputs": [],
   "source": [
    "df_events_v2 = df_events_v1.copy().add_prefix('event_')"
   ]
  },
  {
   "cell_type": "code",
   "execution_count": null,
   "id": "dddbbc97",
   "metadata": {},
   "outputs": [],
   "source": [
    "df_events_v2.head()"
   ]
  },
  {
   "cell_type": "code",
   "execution_count": null,
   "id": "612f3d03",
   "metadata": {},
   "outputs": [],
   "source": [
    "df_weather_v2 = df_weather_reg.merge(df_events_v2, \n",
    "                                     how=\"left\", \n",
    "                                     left_on=[\"region_alt\",\"hour_datetimeEpoch\"],\n",
    "                                     right_on=[\"event_region_title\",\"event_hour_level_event_datetimeEpoch\"])"
   ]
  },
  {
   "cell_type": "code",
   "execution_count": null,
   "id": "929c6e7e",
   "metadata": {},
   "outputs": [],
   "source": [
    "df_weather_v2.head()"
   ]
  },
  {
   "cell_type": "code",
   "execution_count": null,
   "id": "58bdcacf",
   "metadata": {},
   "outputs": [],
   "source": [
    "df_weather_v2['event_start_hour'].unique()"
   ]
  },
  {
   "cell_type": "code",
   "execution_count": null,
   "id": "6be6794d",
   "metadata": {},
   "outputs": [],
   "source": [
    "df_weather_v2['event_start_hour'].describe()"
   ]
  },
  {
   "cell_type": "code",
   "execution_count": null,
   "id": "172611f0",
   "metadata": {},
   "outputs": [],
   "source": [
    "df_weather_v2.to_csv(f\"{OUTPUT_FOLDER}/{WEATHER_EVENTS_OUTPUT_DATA_FILE}\", sep=\";\", index=False)"
   ]
  },
  {
   "cell_type": "code",
   "execution_count": null,
   "id": "328e7330",
   "metadata": {},
   "outputs": [],
   "source": [
    "df_weather_v2.shape"
   ]
  },
  {
   "cell_type": "code",
   "execution_count": null,
   "id": "de76e072",
   "metadata": {},
   "outputs": [],
   "source": []
  }
 ],
 "metadata": {
  "kernelspec": {
   "display_name": "Python 3 (ipykernel)",
   "language": "python",
   "name": "python3"
  },
  "language_info": {
   "codemirror_mode": {
    "name": "ipython",
    "version": 3
   },
   "file_extension": ".py",
   "mimetype": "text/x-python",
   "name": "python",
   "nbconvert_exporter": "python",
   "pygments_lexer": "ipython3",
   "version": "3.11.2"
  }
 },
 "nbformat": 4,
 "nbformat_minor": 5
}
